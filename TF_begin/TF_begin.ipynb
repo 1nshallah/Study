{
  "nbformat": 4,
  "nbformat_minor": 0,
  "metadata": {
    "colab": {
      "name": "TF_begin.ipynb",
      "provenance": [],
      "collapsed_sections": [],
      "mount_file_id": "1YP5LEanRNVISktgIcnoCFRoGxATWcLER",
      "authorship_tag": "ABX9TyMvLrYDH18Kyqfe6lyBj28W"
    },
    "kernelspec": {
      "name": "python3",
      "display_name": "Python 3"
    },
    "language_info": {
      "name": "python"
    },
    "accelerator": "GPU"
  },
  "cells": [
    {
      "cell_type": "code",
      "metadata": {
        "id": "QGQd3T9XWto7",
        "colab": {
          "base_uri": "https://localhost:8080/"
        },
        "outputId": "5cd47015-4394-493d-f87c-7b45d35a0c81"
      },
      "source": [
        "#Sequential model\n",
        "from tensorflow.keras.models import Sequential\n",
        "from tensorflow.keras.layers import Dense\n",
        "#1(Base Model)\n",
        "model = Sequential([\n",
        "                    Dense(units=128,activation=\"relu\",input_shape=(784,)),\n",
        "                    Dense(units=10,activation=\"softmax\")\n",
        "])\n",
        "#2\n",
        "model=Sequential()\n",
        "model.add(Dense(units=128,activation=\"relu\"))\n",
        "model.add(Dense(units=10,activation=\"softmax\"))\n",
        "\n",
        "#Flatten layer\n",
        "from tensorflow.keras.layers import Flatten\n",
        "model=Sequential([\n",
        "                  Flatten(input_shape=(28,28)),\n",
        "                  Dense(units=128,activation=\"relu\"),\n",
        "                  Dense(units=10,activation=\"softmax\")\n",
        "])\n",
        "model.summary()"
      ],
      "execution_count": 23,
      "outputs": [
        {
          "output_type": "stream",
          "name": "stdout",
          "text": [
            "Model: \"sequential_2\"\n",
            "_________________________________________________________________\n",
            " Layer (type)                Output Shape              Param #   \n",
            "=================================================================\n",
            " flatten (Flatten)           (None, 784)               0         \n",
            "                                                                 \n",
            " dense_4 (Dense)             (None, 128)               100480    \n",
            "                                                                 \n",
            " dense_5 (Dense)             (None, 10)                1290      \n",
            "                                                                 \n",
            "=================================================================\n",
            "Total params: 101,770\n",
            "Trainable params: 101,770\n",
            "Non-trainable params: 0\n",
            "_________________________________________________________________\n"
          ]
        }
      ]
    },
    {
      "cell_type": "code",
      "source": [
        "import tensorflow as tf\n",
        "from tensorflow.keras.models import Sequential\n",
        "from tensorflow.keras.layers import Dense, Flatten\n",
        "model=Sequential([\n",
        "                  Flatten(input_shape=(28,28)),\n",
        "                  Dense(units=128,activation=\"relu\"),\n",
        "                  Dense(units=10,activation=\"softmax\")\n",
        "])\n",
        "#model compile\n",
        "#1\n",
        "model.compile(optimizer=\"adam\",\n",
        "              loss=\"sparse_categorical_crossentropy\",\n",
        "              metrics=[\"accuracy\"])\n",
        "#2\n",
        "model.compile(optimizer=tf.keras.optimizers.Adam(),\n",
        "              loss=tf.keras.losses.SparseCategoricalCrossentropy(),\n",
        "              metrics=tf.keras.metrics.Accuracy())\n",
        "multiclass_classification=model.compile(optimizer=\"adam\",\n",
        "                                        loss=\"categorical_crossentropy\",\n",
        "                                        metrics=[\"accuracy\"])\n",
        "binary_classification=model.compile(optimizer=\"adam\",\n",
        "                                        loss=\"binary_crossentropy\",\n",
        "                                        metrics=[\"accuracy\"])\n",
        "regression=model.compile(optimizer=\"adam\",\n",
        "                                        loss=\"mse\",\n",
        "                                        metrics=[\"mae\"])"
      ],
      "metadata": {
        "id": "HEd3I5sWEPcG"
      },
      "execution_count": null,
      "outputs": []
    },
    {
      "cell_type": "code",
      "source": [
        "import tensorflow as tf\n",
        "from tensorflow.keras.models import Sequential\n",
        "from tensorflow.keras.layers import Dense, Flatten\n",
        "\n",
        "model=Sequential([\n",
        "                  Flatten(input_shape=(28,28)),\n",
        "                  Dense(units=128,activation=\"relu\"),\n",
        "                  Dense(units=10,activation=\"softmax\")\n",
        "])\n",
        "model.compile(optimizer=\"adam\",\n",
        "              loss=\"sparse_categorical_crossentropy\",\n",
        "              metrics=[\"accuracy\"])\n",
        "\n",
        "mnist=tf.keras.datasets.mnist\n",
        "(x_train, y_train),(x_test,y_test)=mnist.load_data()\n",
        "\n",
        "\n",
        "#training(verbose012)\n",
        "model.fit(x_train,y_train,epochs=3,batch_size=64,verbose=1)"
      ],
      "metadata": {
        "colab": {
          "base_uri": "https://localhost:8080/"
        },
        "id": "bcAb8MObHbBv",
        "outputId": "c9a415f8-8e47-492f-94e3-96e375746645"
      },
      "execution_count": null,
      "outputs": [
        {
          "output_type": "stream",
          "name": "stdout",
          "text": [
            "Epoch 1/3\n",
            "938/938 [==============================] - 5s 3ms/step - loss: 3.8082 - accuracy: 0.8723\n",
            "Epoch 2/3\n",
            "938/938 [==============================] - 3s 3ms/step - loss: 0.5227 - accuracy: 0.9086\n",
            "Epoch 3/3\n",
            "938/938 [==============================] - 3s 3ms/step - loss: 0.2944 - accuracy: 0.9316\n"
          ]
        },
        {
          "output_type": "execute_result",
          "data": {
            "text/plain": [
              "<keras.callbacks.History at 0x7fe810a61890>"
            ]
          },
          "metadata": {},
          "execution_count": 16
        }
      ]
    },
    {
      "cell_type": "code",
      "source": [
        "mnist=tf.keras.datasets.mnist\n",
        "(X,y),(x_test,y_test)=mnist.load_data()\n",
        "\n",
        "#1\n",
        "model.fit(X,y,validation_split=0.2,epochs=3)\n",
        "\n",
        "#2\n",
        "from sklearn.model_selection import train_test_split\n",
        "x_train, x_val, y_train, y_val=train_test_split(X,y,test_size=0.2)\n",
        "\n",
        "model.fit(x_train, y_train, validation_data=(x_val,y_val),epochs=3,\n",
        "          batch_size=64,verbose=1)\n",
        "\n"
      ],
      "metadata": {
        "colab": {
          "base_uri": "https://localhost:8080/"
        },
        "id": "p_WPpqG5M7OS",
        "outputId": "df683618-2559-4110-bfc1-a40c5ea0da1e"
      },
      "execution_count": null,
      "outputs": [
        {
          "output_type": "stream",
          "name": "stdout",
          "text": [
            "Epoch 1/3\n",
            "1500/1500 [==============================] - 7s 4ms/step - loss: 0.1853 - accuracy: 0.9581 - val_loss: 0.2356 - val_accuracy: 0.9498\n",
            "Epoch 2/3\n",
            "1500/1500 [==============================] - 7s 5ms/step - loss: 0.1576 - accuracy: 0.9628 - val_loss: 0.2373 - val_accuracy: 0.9534\n",
            "Epoch 3/3\n",
            "1500/1500 [==============================] - 7s 5ms/step - loss: 0.1533 - accuracy: 0.9647 - val_loss: 0.2318 - val_accuracy: 0.9534\n",
            "Epoch 1/3\n",
            "750/750 [==============================] - 4s 5ms/step - loss: 0.1186 - accuracy: 0.9699 - val_loss: 0.1134 - val_accuracy: 0.9717\n",
            "Epoch 2/3\n",
            "750/750 [==============================] - 3s 4ms/step - loss: 0.0983 - accuracy: 0.9728 - val_loss: 0.1283 - val_accuracy: 0.9703\n",
            "Epoch 3/3\n",
            "750/750 [==============================] - 3s 4ms/step - loss: 0.1012 - accuracy: 0.9734 - val_loss: 0.1379 - val_accuracy: 0.9657\n"
          ]
        },
        {
          "output_type": "execute_result",
          "data": {
            "text/plain": [
              "<keras.callbacks.History at 0x7fe80df317d0>"
            ]
          },
          "metadata": {},
          "execution_count": 20
        }
      ]
    },
    {
      "cell_type": "code",
      "source": [
        "# loss.accuracy = model.evaluate(x_test,y_test)\n",
        "# print(\"Test accuracy: \",accuracy)\n",
        "#predictions = model.evaluate(x_test)"
      ],
      "metadata": {
        "colab": {
          "base_uri": "https://localhost:8080/"
        },
        "id": "VyBELI67P0dr",
        "outputId": "3d7d7a6c-4e3e-4aa3-8173-2b8dd4d193a5"
      },
      "execution_count": null,
      "outputs": [
        {
          "output_type": "stream",
          "name": "stdout",
          "text": [
            "313/313 [==============================] - 1s 2ms/step - loss: 0.0000e+00 - accuracy: 0.0000e+00\n"
          ]
        }
      ]
    },
    {
      "cell_type": "code",
      "source": [
        "#early stopping\n",
        "from tensorflow.keras.callbacks import EarlyStopping\n",
        "\n",
        "early_stopping = EarlyStopping(monitor=\"val_accuracy\",patience=3)\n",
        "model.fit(X,y,validation_split=0.2,epochs=30,batch_size=64,\n",
        "          callbacks=[early_stopping])\n"
      ],
      "metadata": {
        "id": "u7O9rRHxPSvn"
      },
      "execution_count": null,
      "outputs": []
    },
    {
      "cell_type": "code",
      "source": [
        "#Batch Normalization and Dropout\n",
        "from tensorflow.keras.layers import BatchNormalization, Dropout\n",
        "#Batch Normalization\n",
        "model = Sequential([\n",
        "                    Flatten(input_shape=(28,28)),\n",
        "                    BatchNormalization(),\n",
        "                    Dense(64,activation=\"relu\"),\n",
        "                    BatchNormalization(),\n",
        "                    Dense(10,activation=\"softmax\")\n",
        "                    ])\n",
        "\n",
        "# #Dropout\n",
        "model = Sequential([\n",
        "                    Flatten(input_shape=(28,28)),\n",
        "                    Dropout(0.2),\n",
        "                    BatchNormalization(),\n",
        "                    Dense(64,activation=\"relu\"),\n",
        "                    Dropout(0,2),\n",
        "                    BatchNormalization(),\n",
        "                    Dense(10,activation=\"softmax\")\n",
        "                    ])"
      ],
      "metadata": {
        "id": "qGbgC_EpSVSh"
      },
      "execution_count": 26,
      "outputs": []
    },
    {
      "cell_type": "code",
      "source": [
        "#Model Save and Load\n",
        "from tensorflow.keras.callbacks import ModelCheckpoint\n",
        "\n",
        "#ckpt\n",
        "cp_path = \"model_save/cp.ckpt\"\n",
        "checkpoint = ModelCheckpoint(filepath=cp_path,\n",
        "                             save_best_only=True,\n",
        "                             save_weights_only=True,\n",
        "                             verbose=1)\n",
        "\n",
        "def load_model():\n",
        "  model=Sequential([\n",
        "                    Flatten(input_shape=(28,28)),\n",
        "                    Dense(units=128,activation=\"relu\"),\n",
        "                    Dense(units=10,activation=\"softmax\")\n",
        "  ])\n",
        "  model.compile(optimizer=\"adam\",\n",
        "              loss=\"sparse_categorical_crossentropy\",\n",
        "              metrics=[\"accuracy\"])\n",
        "  return model\n",
        "\n",
        "model = load_model()\n",
        "\n",
        "model.fit(x_train,y_train,validation_split=0.2,epochs=10,batch_size=64,\n",
        "          callbacks=[checkpoint])\n",
        "\n",
        "model.load_weights(cp_path)\n",
        "model.evaluate(x_test,y_tset)\n",
        "\n",
        "#HDF5\n",
        "#1\n",
        "model=load_model()\n",
        "checkpoint=ModelCheckpoint(\"model_save.h5\")#save_weights_only=False\n",
        "model.fit(x_train, y_train, epochs=3,callbacks=\n",
        "\n",
        "#2\n",
        "model=load_model()\n",
        "model.fit(x_train,y_train,epochs=3)\n",
        "model.save(\"model_save2.h5\")\n",
        "\n",
        "model = load_model*(\"model_save2.h5\")"
      ],
      "metadata": {
        "id": "CzPxwdh8U00F"
      },
      "execution_count": null,
      "outputs": []
    },
    {
      "cell_type": "code",
      "source": [
        "#Facial Expression Recognition \n",
        "import pandas as pd\n",
        "\n",
        "path = \"/content/drive/MyDrive/kaggle_data/Facial_Expression/\"\n",
        "\n",
        "train = pd.read_csv(path+\"train.csv\")\n",
        "test = pd.read_csv(path+\"test.csv\")\n",
        "data = pd.read_csv(path+\"icml_face_data.csv\")\n"
      ],
      "metadata": {
        "id": "UuKcu-2gZl8-"
      },
      "execution_count": 2,
      "outputs": []
    },
    {
      "cell_type": "code",
      "source": [
        "#EDA&Preprocessing\n",
        "data.head()"
      ],
      "metadata": {
        "colab": {
          "base_uri": "https://localhost:8080/",
          "height": 206
        },
        "id": "pnPI7pSLOLgn",
        "outputId": "ac7d109d-7e75-4633-8576-401f2c029b39"
      },
      "execution_count": 4,
      "outputs": [
        {
          "output_type": "execute_result",
          "data": {
            "text/html": [
              "\n",
              "  <div id=\"df-13c309d2-82cc-463d-90da-57342c098669\">\n",
              "    <div class=\"colab-df-container\">\n",
              "      <div>\n",
              "<style scoped>\n",
              "    .dataframe tbody tr th:only-of-type {\n",
              "        vertical-align: middle;\n",
              "    }\n",
              "\n",
              "    .dataframe tbody tr th {\n",
              "        vertical-align: top;\n",
              "    }\n",
              "\n",
              "    .dataframe thead th {\n",
              "        text-align: right;\n",
              "    }\n",
              "</style>\n",
              "<table border=\"1\" class=\"dataframe\">\n",
              "  <thead>\n",
              "    <tr style=\"text-align: right;\">\n",
              "      <th></th>\n",
              "      <th>emotion</th>\n",
              "      <th>Usage</th>\n",
              "      <th>pixels</th>\n",
              "    </tr>\n",
              "  </thead>\n",
              "  <tbody>\n",
              "    <tr>\n",
              "      <th>0</th>\n",
              "      <td>0</td>\n",
              "      <td>Training</td>\n",
              "      <td>70 80 82 72 58 58 60 63 54 58 60 48 89 115 121...</td>\n",
              "    </tr>\n",
              "    <tr>\n",
              "      <th>1</th>\n",
              "      <td>0</td>\n",
              "      <td>Training</td>\n",
              "      <td>151 150 147 155 148 133 111 140 170 174 182 15...</td>\n",
              "    </tr>\n",
              "    <tr>\n",
              "      <th>2</th>\n",
              "      <td>2</td>\n",
              "      <td>Training</td>\n",
              "      <td>231 212 156 164 174 138 161 173 182 200 106 38...</td>\n",
              "    </tr>\n",
              "    <tr>\n",
              "      <th>3</th>\n",
              "      <td>4</td>\n",
              "      <td>Training</td>\n",
              "      <td>24 32 36 30 32 23 19 20 30 41 21 22 32 34 21 1...</td>\n",
              "    </tr>\n",
              "    <tr>\n",
              "      <th>4</th>\n",
              "      <td>6</td>\n",
              "      <td>Training</td>\n",
              "      <td>4 0 0 0 0 0 0 0 0 0 0 0 3 15 23 28 48 50 58 84...</td>\n",
              "    </tr>\n",
              "  </tbody>\n",
              "</table>\n",
              "</div>\n",
              "      <button class=\"colab-df-convert\" onclick=\"convertToInteractive('df-13c309d2-82cc-463d-90da-57342c098669')\"\n",
              "              title=\"Convert this dataframe to an interactive table.\"\n",
              "              style=\"display:none;\">\n",
              "        \n",
              "  <svg xmlns=\"http://www.w3.org/2000/svg\" height=\"24px\"viewBox=\"0 0 24 24\"\n",
              "       width=\"24px\">\n",
              "    <path d=\"M0 0h24v24H0V0z\" fill=\"none\"/>\n",
              "    <path d=\"M18.56 5.44l.94 2.06.94-2.06 2.06-.94-2.06-.94-.94-2.06-.94 2.06-2.06.94zm-11 1L8.5 8.5l.94-2.06 2.06-.94-2.06-.94L8.5 2.5l-.94 2.06-2.06.94zm10 10l.94 2.06.94-2.06 2.06-.94-2.06-.94-.94-2.06-.94 2.06-2.06.94z\"/><path d=\"M17.41 7.96l-1.37-1.37c-.4-.4-.92-.59-1.43-.59-.52 0-1.04.2-1.43.59L10.3 9.45l-7.72 7.72c-.78.78-.78 2.05 0 2.83L4 21.41c.39.39.9.59 1.41.59.51 0 1.02-.2 1.41-.59l7.78-7.78 2.81-2.81c.8-.78.8-2.07 0-2.86zM5.41 20L4 18.59l7.72-7.72 1.47 1.35L5.41 20z\"/>\n",
              "  </svg>\n",
              "      </button>\n",
              "      \n",
              "  <style>\n",
              "    .colab-df-container {\n",
              "      display:flex;\n",
              "      flex-wrap:wrap;\n",
              "      gap: 12px;\n",
              "    }\n",
              "\n",
              "    .colab-df-convert {\n",
              "      background-color: #E8F0FE;\n",
              "      border: none;\n",
              "      border-radius: 50%;\n",
              "      cursor: pointer;\n",
              "      display: none;\n",
              "      fill: #1967D2;\n",
              "      height: 32px;\n",
              "      padding: 0 0 0 0;\n",
              "      width: 32px;\n",
              "    }\n",
              "\n",
              "    .colab-df-convert:hover {\n",
              "      background-color: #E2EBFA;\n",
              "      box-shadow: 0px 1px 2px rgba(60, 64, 67, 0.3), 0px 1px 3px 1px rgba(60, 64, 67, 0.15);\n",
              "      fill: #174EA6;\n",
              "    }\n",
              "\n",
              "    [theme=dark] .colab-df-convert {\n",
              "      background-color: #3B4455;\n",
              "      fill: #D2E3FC;\n",
              "    }\n",
              "\n",
              "    [theme=dark] .colab-df-convert:hover {\n",
              "      background-color: #434B5C;\n",
              "      box-shadow: 0px 1px 3px 1px rgba(0, 0, 0, 0.15);\n",
              "      filter: drop-shadow(0px 1px 2px rgba(0, 0, 0, 0.3));\n",
              "      fill: #FFFFFF;\n",
              "    }\n",
              "  </style>\n",
              "\n",
              "      <script>\n",
              "        const buttonEl =\n",
              "          document.querySelector('#df-13c309d2-82cc-463d-90da-57342c098669 button.colab-df-convert');\n",
              "        buttonEl.style.display =\n",
              "          google.colab.kernel.accessAllowed ? 'block' : 'none';\n",
              "\n",
              "        async function convertToInteractive(key) {\n",
              "          const element = document.querySelector('#df-13c309d2-82cc-463d-90da-57342c098669');\n",
              "          const dataTable =\n",
              "            await google.colab.kernel.invokeFunction('convertToInteractive',\n",
              "                                                     [key], {});\n",
              "          if (!dataTable) return;\n",
              "\n",
              "          const docLinkHtml = 'Like what you see? Visit the ' +\n",
              "            '<a target=\"_blank\" href=https://colab.research.google.com/notebooks/data_table.ipynb>data table notebook</a>'\n",
              "            + ' to learn more about interactive tables.';\n",
              "          element.innerHTML = '';\n",
              "          dataTable['output_type'] = 'display_data';\n",
              "          await google.colab.output.renderOutput(dataTable, element);\n",
              "          const docLink = document.createElement('div');\n",
              "          docLink.innerHTML = docLinkHtml;\n",
              "          element.appendChild(docLink);\n",
              "        }\n",
              "      </script>\n",
              "    </div>\n",
              "  </div>\n",
              "  "
            ],
            "text/plain": [
              "   emotion     Usage                                             pixels\n",
              "0        0  Training  70 80 82 72 58 58 60 63 54 58 60 48 89 115 121...\n",
              "1        0  Training  151 150 147 155 148 133 111 140 170 174 182 15...\n",
              "2        2  Training  231 212 156 164 174 138 161 173 182 200 106 38...\n",
              "3        4  Training  24 32 36 30 32 23 19 20 30 41 21 22 32 34 21 1...\n",
              "4        6  Training  4 0 0 0 0 0 0 0 0 0 0 0 3 15 23 28 48 50 58 84..."
            ]
          },
          "metadata": {},
          "execution_count": 4
        }
      ]
    },
    {
      "cell_type": "code",
      "source": [
        "data[\" Usage\"].value_counts()"
      ],
      "metadata": {
        "colab": {
          "base_uri": "https://localhost:8080/"
        },
        "id": "tP3yXnrUPasj",
        "outputId": "5f8ddd56-784c-4f56-8099-f0cd964b94f0"
      },
      "execution_count": 6,
      "outputs": [
        {
          "output_type": "execute_result",
          "data": {
            "text/plain": [
              "Training       28709\n",
              "PrivateTest     3589\n",
              "PublicTest      3589\n",
              "Name:  Usage, dtype: int64"
            ]
          },
          "metadata": {},
          "execution_count": 6
        }
      ]
    },
    {
      "cell_type": "code",
      "source": [
        "data[\"emotion\"].value_counts()"
      ],
      "metadata": {
        "colab": {
          "base_uri": "https://localhost:8080/"
        },
        "id": "3pi38ya8Pi2w",
        "outputId": "f202c0f9-1735-477a-b8bb-63a92f5db93f"
      },
      "execution_count": 7,
      "outputs": [
        {
          "output_type": "execute_result",
          "data": {
            "text/plain": [
              "3    8989\n",
              "6    6198\n",
              "4    6077\n",
              "2    5121\n",
              "0    4953\n",
              "5    4002\n",
              "1     547\n",
              "Name: emotion, dtype: int64"
            ]
          },
          "metadata": {},
          "execution_count": 7
        }
      ]
    },
    {
      "cell_type": "code",
      "source": [
        "data[' pixels'][0]"
      ],
      "metadata": {
        "colab": {
          "base_uri": "https://localhost:8080/",
          "height": 244
        },
        "id": "IttJatSNPmBU",
        "outputId": "698474de-cb69-4982-8b5b-8eaa469164d0"
      },
      "execution_count": 9,
      "outputs": [
        {
          "output_type": "execute_result",
          "data": {
            "application/vnd.google.colaboratory.intrinsic+json": {
              "type": "string"
            },
            "text/plain": [
              "'70 80 82 72 58 58 60 63 54 58 60 48 89 115 121 119 115 110 98 91 84 84 90 99 110 126 143 153 158 171 169 172 169 165 129 110 113 107 95 79 66 62 56 57 61 52 43 41 65 61 58 57 56 69 75 70 65 56 54 105 146 154 151 151 155 155 150 147 147 148 152 158 164 172 177 182 186 189 188 190 188 180 167 116 95 103 97 77 72 62 55 58 54 56 52 44 50 43 54 64 63 71 68 64 52 66 119 156 161 164 163 164 167 168 170 174 175 176 178 179 183 187 190 195 197 198 197 198 195 191 190 145 86 100 90 65 57 60 54 51 41 49 56 47 38 44 63 55 46 52 54 55 83 138 157 158 165 168 172 171 173 176 179 179 180 182 185 187 189 189 192 197 200 199 196 198 200 198 197 177 91 87 96 58 58 59 51 42 37 41 47 45 37 35 36 30 41 47 59 94 141 159 161 161 164 170 171 172 176 178 179 182 183 183 187 189 192 192 194 195 200 200 199 199 200 201 197 193 111 71 108 69 55 61 51 42 43 56 54 44 24 29 31 45 61 72 100 136 150 159 163 162 163 170 172 171 174 177 177 180 187 186 187 189 192 192 194 195 196 197 199 200 201 200 197 201 137 58 98 92 57 62 53 47 41 40 51 43 24 35 52 63 75 104 129 143 149 158 162 164 166 171 173 172 174 178 178 179 187 188 188 191 193 194 195 198 199 199 197 198 197 197 197 201 164 52 78 87 69 58 56 50 54 39 44 42 26 31 49 65 91 119 134 145 147 152 159 163 167 171 170 169 174 178 178 179 187 187 185 187 190 188 187 191 197 201 199 199 200 197 196 197 182 58 62 77 61 60 55 49 59 52 54 44 22 30 47 68 102 123 136 144 148 150 153 157 167 172 173 170 171 177 179 178 186 190 186 189 196 193 191 194 190 190 192 197 201 203 199 194 189 69 48 74 56 60 57 50 59 59 51 41 20 34 47 79 111 132 139 143 145 147 150 151 160 169 172 171 167 171 177 177 174 180 182 181 192 196 189 192 198 195 194 196 198 201 202 195 189 70 39 69 61 61 61 53 59 59 45 40 26 40 61 93 124 135 138 142 144 146 151 152 158 165 168 168 165 161 164 173 172 167 172 167 180 198 198 193 199 195 194 198 200 198 197 195 190 65 35 68 59 59 62 57 60 59 50 44 32 54 90 115 132 137 138 140 144 146 146 156 165 168 174 176 176 175 168 168 169 171 175 171 172 192 194 184 198 205 201 194 195 193 195 192 186 57 38 72 65 57 62 58 57 60 54 49 47 79 116 130 138 141 141 139 141 143 145 157 164 164 166 173 174 176 179 179 176 181 189 188 173 180 175 160 182 189 198 192 189 190 190 188 172 46 44 64 66 59 62 57 56 62 53 50 66 103 133 137 141 143 141 136 132 131 136 127 118 111 107 108 123 131 143 154 158 166 177 181 175 170 159 148 171 161 176 185 192 194 188 190 162 53 49 58 63 61 61 55 56 61 51 50 81 116 139 142 142 146 144 136 128 119 112 97 85 90 91 88 92 90 80 81 84 106 122 132 144 145 144 147 163 147 163 173 181 190 187 191 167 61 48 53 61 61 58 54 56 61 51 53 89 123 140 144 145 146 147 136 122 107 99 95 92 90 87 83 76 67 52 46 52 63 69 83 96 119 132 148 159 136 137 143 138 143 152 156 156 70 48 50 59 61 57 54 54 61 52 56 93 124 135 140 144 148 150 140 125 114 101 80 54 56 54 41 41 33 40 39 35 49 60 63 74 107 129 147 147 116 111 100 77 76 86 108 111 73 49 50 60 62 60 57 55 63 59 56 89 121 134 139 146 151 152 150 141 127 111 96 77 85 70 32 31 37 91 65 50 48 59 73 83 112 136 155 130 60 46 38 40 43 81 116 91 72 52 48 58 62 62 59 53 61 59 52 85 114 134 140 147 154 159 158 153 145 143 150 126 121 125 68 45 89 137 95 70 78 75 95 109 131 153 171 94 23 16 32 82 82 65 113 77 71 54 48 56 62 62 60 53 60 56 52 75 108 133 141 149 158 166 169 167 163 156 155 146 112 119 134 127 142 140 121 117 129 114 120 129 146 174 191 98 46 33 33 109 147 98 109 67 73 55 50 56 64 64 61 58 61 53 54 64 106 129 140 148 159 169 175 176 174 165 159 156 145 120 115 124 127 131 133 141 147 142 141 147 161 182 202 154 114 96 100 158 158 153 123 61 76 57 48 56 64 64 63 62 61 54 55 44 97 131 137 147 158 168 177 181 183 179 170 168 169 165 155 152 151 152 154 162 165 158 153 158 168 187 206 186 147 135 144 145 152 178 115 57 74 58 48 58 64 63 63 59 63 55 53 66 104 130 132 144 153 162 170 180 185 187 181 178 182 180 177 173 171 171 177 176 172 164 161 167 164 185 207 197 173 152 141 141 161 191 104 54 69 60 48 57 65 62 60 57 64 55 50 94 111 124 130 135 150 159 163 172 179 184 184 178 178 177 173 171 174 177 178 176 169 165 161 163 161 180 205 201 183 171 177 178 180 194 101 55 65 60 47 55 65 63 59 58 63 57 52 90 105 117 122 130 143 153 157 163 171 174 182 183 182 178 174 175 175 177 175 172 163 161 159 157 162 178 200 201 188 181 172 177 187 198 98 57 63 61 48 52 61 64 63 60 65 57 51 95 104 113 117 127 136 145 152 156 162 162 165 173 177 182 183 183 180 181 177 165 153 154 152 153 160 174 193 200 188 185 180 182 192 196 101 60 60 56 49 50 60 66 64 62 64 59 53 99 104 111 112 118 132 142 147 155 158 160 159 162 171 176 184 186 183 180 169 154 141 135 145 155 164 180 196 205 188 189 188 189 193 192 98 61 64 55 49 49 60 66 63 64 63 60 57 99 105 108 112 113 125 139 143 150 155 158 164 169 174 176 182 183 182 177 163 141 133 147 151 164 170 185 200 210 194 188 192 186 185 180 88 64 67 60 46 50 59 65 64 64 64 59 56 101 103 108 109 109 118 134 143 143 147 155 159 166 171 174 177 179 178 172 153 129 143 161 159 166 171 186 197 207 203 185 191 183 179 164 73 67 67 66 48 50 57 65 65 63 64 61 57 103 108 114 112 110 115 128 138 144 145 152 156 159 164 168 172 172 169 161 139 125 147 156 161 162 164 180 188 188 197 185 187 181 180 137 65 70 68 70 52 47 53 62 65 63 65 61 58 105 109 112 120 113 112 122 134 141 149 150 153 155 159 164 167 167 162 152 134 115 126 119 106 99 109 141 158 150 155 175 184 176 175 106 63 70 68 68 50 46 50 57 63 63 64 61 59 107 110 110 117 117 114 117 128 137 147 148 150 153 156 161 162 163 156 150 148 105 70 45 26 25 47 73 74 79 128 177 180 173 157 77 66 68 67 68 52 49 51 56 62 62 62 62 60 101 107 108 114 115 114 117 125 134 143 148 149 152 154 158 160 158 155 160 158 132 88 73 73 64 52 66 91 138 160 174 173 171 125 64 67 63 64 68 54 50 49 54 60 60 60 62 60 98 105 105 109 111 114 117 125 131 139 145 148 153 153 156 157 156 161 168 165 153 139 122 115 105 89 103 150 182 161 171 173 162 89 64 64 62 64 69 56 48 49 56 58 60 59 62 60 89 99 108 106 109 111 119 120 125 134 140 146 152 153 153 153 156 159 162 160 150 136 129 133 133 122 133 148 178 168 168 175 132 61 67 66 65 63 69 57 47 50 55 58 59 61 62 60 89 96 105 107 105 107 117 120 123 124 133 141 149 153 151 145 151 145 139 140 138 128 126 124 129 125 136 142 164 172 168 168 87 58 67 63 62 61 69 57 39 44 55 56 59 63 62 62 84 91 92 98 102 103 113 119 121 118 128 138 146 151 147 142 140 128 127 128 129 126 135 140 135 130 143 146 149 166 174 131 62 65 62 59 67 63 68 83 89 65 42 52 60 60 62 63 77 84 84 91 99 101 107 112 117 118 122 134 145 149 144 134 127 127 129 130 134 125 126 132 152 153 151 150 151 165 171 87 59 65 64 61 58 86 122 138 208 207 154 71 52 56 55 56 69 77 83 85 93 91 102 112 116 118 119 127 140 144 142 131 112 95 85 75 62 58 56 59 87 88 83 127 142 165 149 62 65 62 59 77 113 192 156 84 185 196 197 168 81 70 75 69 58 65 73 82 81 79 95 107 114 116 116 123 136 142 136 132 131 102 71 58 49 41 33 41 36 49 60 99 136 168 111 53 63 71 138 186 203 195 146 87 91 72 79 95 103 82 61 74 55 57 68 75 76 77 84 96 106 110 111 121 130 138 136 142 153 159 152 152 154 145 133 136 147 158 156 155 147 158 74 57 60 123 181 174 126 89 72 67 57 43 55 67 76 86 60 45 51 45 52 68 75 73 77 88 96 100 104 113 115 121 134 146 149 146 149 148 155 168 174 179 178 169 169 174 161 131 44 47 82 150 168 136 104 75 66 80 67 58 48 54 68 88 121 102 51 45 38 53 66 65 70 86 92 96 102 103 109 116 130 136 136 133 136 138 137 135 128 130 143 158 165 164 147 87 62 74 123 160 170 100 99 107 79 71 86 75 57 45 49 65 122 130 43 48 40 39 55 61 59 71 82 87 88 93 105 118 123 128 130 124 111 98 94 88 67 55 84 129 147 148 105 48 82 142 161 164 164 76 72 85 100 88 72 90 84 54 48 54 73 100 73 36 44 31 37 53 51 55 67 74 77 87 97 108 118 125 132 122 106 86 80 82 75 73 83 110 129 126 46 22 130 177 196 193 166 72 52 54 73 100 92 75 99 95 65 68 61 63 91 65 42 37 22 28 39 44 57 68 74 83 92 101 119 131 143 141 134 136 140 139 134 136 139 138 136 85 23 114 202 198 199 180 173 98 36 86 130 150 137 99 77 101 99 72 56 43 77 82 79 70 56 28 20 25 36 50 63 73 83 98 111 124 139 156 160 159 169 168 165 163 159 149 114 43 26 133 183 192 177 152 137 130 125 139 173 195 186 137 101 88 101 105 70 46 77 72 84 87 87 81 64 37 20 31 40 46 65 88 108 110 125 149 157 153 162 164 158 159 154 140 78 21 11 61 144 168 173 157 138 150 148 132 159 182 183 136 106 116 95 106 109 82'"
            ]
          },
          "metadata": {},
          "execution_count": 9
        }
      ]
    },
    {
      "cell_type": "code",
      "source": [
        "len(data[' pixels'][0])"
      ],
      "metadata": {
        "colab": {
          "base_uri": "https://localhost:8080/"
        },
        "id": "1KnadqkjPveN",
        "outputId": "58800050-4fba-4103-9f30-4d77fb007cc3"
      },
      "execution_count": 11,
      "outputs": [
        {
          "output_type": "execute_result",
          "data": {
            "text/plain": [
              "8287"
            ]
          },
          "metadata": {},
          "execution_count": 11
        }
      ]
    },
    {
      "cell_type": "code",
      "source": [
        "import numpy as np\n",
        "temp = np.fromstring(data[\" pixels\"][0], dtype=int, sep=\" \")\n",
        "print(len(temp))"
      ],
      "metadata": {
        "colab": {
          "base_uri": "https://localhost:8080/"
        },
        "id": "A9OxHc38Pty-",
        "outputId": "1f0bb717-2096-43f7-d796-35af5e542795"
      },
      "execution_count": 15,
      "outputs": [
        {
          "output_type": "stream",
          "name": "stdout",
          "text": [
            "2304\n"
          ]
        }
      ]
    },
    {
      "cell_type": "code",
      "source": [
        "def preprocessing(data):\n",
        "  image = np.zeros(shape=(len(data),48,48))\n",
        "  label = np.array(list(map(int, data[\"emotion\"])))\n",
        "\n",
        "  for i, row in enumerate(data.index):\n",
        "    df = np.fromstring(data[\" pixels\"][row],dtype=int,sep=\" \")\n",
        "    df = np.reshape(df,(48,48))\n",
        "    image[i]=df\n",
        "  return image, label\n",
        "\n",
        "x_train, y_train = preprocessing(data[data[' Usage']=='Training'])\n",
        "x_val, y_val = preprocessing(data[data[' Usage']=='PrivateTest'])\n",
        "x_test, y_test = preprocessing(data[data[\" Usage\"]==\"PublicTest\"])\n",
        "\n",
        "x_train.shape, x_val.shape, x_test.shape"
      ],
      "metadata": {
        "colab": {
          "base_uri": "https://localhost:8080/"
        },
        "id": "IsYhEFwBQMih",
        "outputId": "046246b4-05ee-48dd-8195-e997d35c58a1"
      },
      "execution_count": 19,
      "outputs": [
        {
          "output_type": "execute_result",
          "data": {
            "text/plain": [
              "((28709, 48, 48), (3589, 48, 48), (3589, 48, 48))"
            ]
          },
          "metadata": {},
          "execution_count": 19
        }
      ]
    },
    {
      "cell_type": "code",
      "source": [
        "import matplotlib.pyplot as plt\n",
        "plt.imshow(x_train[0],cmap='gray')\n",
        "print(\"lable:\", y_train[0])"
      ],
      "metadata": {
        "colab": {
          "base_uri": "https://localhost:8080/",
          "height": 284
        },
        "id": "Ya7n6atMRljA",
        "outputId": "c1bdf06a-25a0-4bb4-aa1b-49e3495e60d1"
      },
      "execution_count": 20,
      "outputs": [
        {
          "output_type": "stream",
          "name": "stdout",
          "text": [
            "lable: 0\n"
          ]
        },
        {
          "output_type": "display_data",
          "data": {
            "image/png": "[encoded data removed]",
            "text/plain": [
              "<Figure size 432x288 with 1 Axes>"
            ]
          },
          "metadata": {
            "needs_background": "light"
          }
        }
      ]
    },
    {
      "cell_type": "code",
      "source": [
        "import matplotlib.pyplot as plt\n",
        "plt.imshow(x_train[100],cmap='gray')\n",
        "print(\"lable:\", y_train[100])"
      ],
      "metadata": {
        "colab": {
          "base_uri": "https://localhost:8080/",
          "height": 284
        },
        "id": "pikuTlz5RxXk",
        "outputId": "2aea2e24-779b-47de-af87-57592c3af6f2"
      },
      "execution_count": 21,
      "outputs": [
        {
          "output_type": "stream",
          "name": "stdout",
          "text": [
            "lable: 3\n"
          ]
        },
        {
          "output_type": "display_data",
          "data": {
            "image/png": "[encoded data removed]",
            "text/plain": [
              "<Figure size 432x288 with 1 Axes>"
            ]
          },
          "metadata": {
            "needs_background": "light"
          }
        }
      ]
    },
    {
      "cell_type": "code",
      "source": [
        "# 모델1\n",
        "model = Sequential([\n",
        "                    Flatten(input_shape=(48,48)),\n",
        "                    Dense(128, activation='relu'),\n",
        "                    Dense(7, activation='softmax')\n",
        "])\n",
        "# 모델 컴파일\n",
        "model.compile(optimizer='adam',\n",
        "              loss='sparse_categorical_crossentropy',\n",
        "              metrics=['accuracy'])\n",
        "\n",
        "# 훈련(학습)\n",
        "history = model.fit(x_train, y_train,  validation_data=(x_val, y_val), epochs=5, batch_size=64)"
      ],
      "metadata": {
        "colab": {
          "base_uri": "https://localhost:8080/"
        },
        "id": "UBDLnLuzTQjF",
        "outputId": "3b23f2eb-d7f0-48e6-85ea-403e60c368c1"
      },
      "execution_count": 24,
      "outputs": [
        {
          "output_type": "stream",
          "name": "stdout",
          "text": [
            "Epoch 1/5\n",
            "449/449 [==============================] - 3s 3ms/step - loss: 41.8196 - accuracy: 0.2144 - val_loss: 9.3461 - val_accuracy: 0.2349\n",
            "Epoch 2/5\n",
            "449/449 [==============================] - 1s 3ms/step - loss: 4.3942 - accuracy: 0.2234 - val_loss: 1.8915 - val_accuracy: 0.2452\n",
            "Epoch 3/5\n",
            "449/449 [==============================] - 1s 3ms/step - loss: 1.8632 - accuracy: 0.2517 - val_loss: 1.8515 - val_accuracy: 0.2452\n",
            "Epoch 4/5\n",
            "449/449 [==============================] - 1s 3ms/step - loss: 1.8344 - accuracy: 0.2518 - val_loss: 1.8332 - val_accuracy: 0.2455\n",
            "Epoch 5/5\n",
            "449/449 [==============================] - 1s 3ms/step - loss: 1.8213 - accuracy: 0.2519 - val_loss: 1.8262 - val_accuracy: 0.2452\n"
          ]
        }
      ]
    },
    {
      "cell_type": "code",
      "source": [
        "# 모델2\n",
        "model = Sequential([\n",
        "                    Flatten(input_shape=(48,48)),\n",
        "                    BatchNormalization(),\n",
        "                    Dense(128, activation='relu'),\n",
        "                    BatchNormalization(),\n",
        "                    Dense(7, activation='softmax')\n",
        "])\n",
        "# 모델 컴파일\n",
        "model.compile(optimizer='adam',\n",
        "              loss='sparse_categorical_crossentropy',\n",
        "              metrics=['accuracy'])\n",
        "\n",
        "# 훈련(학습)\n",
        "history = model.fit(x_train, y_train,  validation_data=(x_val, y_val), epochs=5, batch_size=64)"
      ],
      "metadata": {
        "colab": {
          "base_uri": "https://localhost:8080/"
        },
        "id": "fgn_H9OjTUHi",
        "outputId": "3100e0a7-5b82-4baa-c2b2-347b81acdcf7"
      },
      "execution_count": 28,
      "outputs": [
        {
          "output_type": "stream",
          "name": "stdout",
          "text": [
            "Epoch 1/5\n",
            "449/449 [==============================] - 2s 4ms/step - loss: 1.7065 - accuracy: 0.3460 - val_loss: 1.6090 - val_accuracy: 0.3845\n",
            "Epoch 2/5\n",
            "449/449 [==============================] - 2s 4ms/step - loss: 1.5732 - accuracy: 0.3934 - val_loss: 1.5832 - val_accuracy: 0.3862\n",
            "Epoch 3/5\n",
            "449/449 [==============================] - 2s 4ms/step - loss: 1.5222 - accuracy: 0.4159 - val_loss: 1.5480 - val_accuracy: 0.3912\n",
            "Epoch 4/5\n",
            "449/449 [==============================] - 2s 4ms/step - loss: 1.4804 - accuracy: 0.4327 - val_loss: 1.5473 - val_accuracy: 0.4051\n",
            "Epoch 5/5\n",
            "449/449 [==============================] - 2s 4ms/step - loss: 1.4433 - accuracy: 0.4464 - val_loss: 1.5365 - val_accuracy: 0.4143\n"
          ]
        }
      ]
    },
    {
      "cell_type": "code",
      "source": [
        "loss, acc = model.evaluate(x_test, y_test)\n",
        "print('test정확도:', acc)"
      ],
      "metadata": {
        "colab": {
          "base_uri": "https://localhost:8080/"
        },
        "id": "0CXfb7bLTVHJ",
        "outputId": "a8294c63-4858-4c60-df74-e37314340bbd"
      },
      "execution_count": 29,
      "outputs": [
        {
          "output_type": "stream",
          "name": "stdout",
          "text": [
            "113/113 [==============================] - 0s 2ms/step - loss: 1.5557 - accuracy: 0.4115\n",
            "test정확도: 0.41153523325920105\n"
          ]
        }
      ]
    },
    {
      "cell_type": "code",
      "source": [
        "plt.plot(history.history['accuracy'])\n",
        "plt.plot(history.history['val_accuracy'])\n",
        "plt.xlabel('epoch')\n",
        "plt.ylabel('accuracy')\n",
        "plt.legend(['training', 'validation'])"
      ],
      "metadata": {
        "colab": {
          "base_uri": "https://localhost:8080/",
          "height": 296
        },
        "id": "Nhp1u5hWTW7E",
        "outputId": "a4a33e08-8a0e-4d86-d4cd-e78082e7e314"
      },
      "execution_count": 30,
      "outputs": [
        {
          "output_type": "execute_result",
          "data": {
            "text/plain": [
              "<matplotlib.legend.Legend at 0x7f31e7d04390>"
            ]
          },
          "metadata": {},
          "execution_count": 30
        },
        {
          "output_type": "display_data",
          "data": {
            "image/png": "[encoded data removed]",
            "text/plain": [
              "<Figure size 432x288 with 1 Axes>"
            ]
          },
          "metadata": {
            "needs_background": "light"
          }
        }
      ]
    },
    {
      "cell_type": "code",
      "source": [
        "plt.plot(history.history['loss'])\n",
        "plt.plot(history.history['val_loss'])\n",
        "plt.xlabel('epoch')\n",
        "plt.ylabel('loss')\n",
        "plt.legend(['training', 'validation'])"
      ],
      "metadata": {
        "colab": {
          "base_uri": "https://localhost:8080/",
          "height": 296
        },
        "id": "psbxPvD-TYeB",
        "outputId": "39ee66de-a453-4cee-ecb8-2cc3c777bdee"
      },
      "execution_count": 31,
      "outputs": [
        {
          "output_type": "execute_result",
          "data": {
            "text/plain": [
              "<matplotlib.legend.Legend at 0x7f31e7eb4bd0>"
            ]
          },
          "metadata": {},
          "execution_count": 31
        },
        {
          "output_type": "display_data",
          "data": {
            "image/png": "[encoded data removed]",
            "text/plain": [
              "<Figure size 432x288 with 1 Axes>"
            ]
          },
          "metadata": {
            "needs_background": "light"
          }
        }
      ]
    }
  ]
}
